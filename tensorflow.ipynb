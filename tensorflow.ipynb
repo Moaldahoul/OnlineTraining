{
    "nbformat_minor": 1, 
    "cells": [
        {
            "source": "from tensorflow.examples.tutorials.mnist import input_data\nmnist = input_data.read_data_sets(\"MNIST_data/\",one_hot=True)", 
            "cell_type": "code", 
            "execution_count": 5, 
            "outputs": [
                {
                    "output_type": "stream", 
                    "name": "stdout", 
                    "text": "Successfully downloaded train-images-idx3-ubyte.gz 9912422 bytes.\nExtracting MNIST_data/train-images-idx3-ubyte.gz\nSuccessfully downloaded train-labels-idx1-ubyte.gz 28881 bytes.\nExtracting MNIST_data/train-labels-idx1-ubyte.gz\nSuccessfully downloaded t10k-images-idx3-ubyte.gz 1648877 bytes.\nExtracting MNIST_data/t10k-images-idx3-ubyte.gz\nSuccessfully downloaded t10k-labels-idx1-ubyte.gz 4542 bytes.\nExtracting MNIST_data/t10k-labels-idx1-ubyte.gz\n"
                }
            ], 
            "metadata": {}
        }, 
        {
            "source": "import tensorflow as tf", 
            "cell_type": "code", 
            "execution_count": 6, 
            "outputs": [], 
            "metadata": {}
        }, 
        {
            "source": "%matplotlib inline\nimport matplotlib.pyplot as plt\nbatch_xs, batch_ys = mnist.train.next_batch(1)\nX = batch_xs\nX = X.reshape([28,28])\nplt.gray()\nprint (batch_ys)\nplt.imshow(X)", 
            "cell_type": "code", 
            "execution_count": 26, 
            "outputs": [
                {
                    "output_type": "stream", 
                    "name": "stdout", 
                    "text": "[[ 0.  1.  0.  0.  0.  0.  0.  0.  0.  0.]]\n"
                }, 
                {
                    "output_type": "execute_result", 
                    "metadata": {}, 
                    "data": {
                        "text/plain": "<matplotlib.image.AxesImage at 0x7fc9effcdfd0>"
                    }, 
                    "execution_count": 26
                }, 
                {
                    "output_type": "display_data", 
                    "data": {
                        "image/png": "[encoded data removed]", 
                        "text/plain": "<matplotlib.figure.Figure at 0x7fc9f0003f98>"
                    }, 
                    "metadata": {}
                }
            ], 
            "metadata": {}
        }, 
        {
            "source": "x = tf.placeholder(tf.float32, [None,784])\nw = tf.Variable(tf.zeros([784,10]))\nb = tf.Variable(tf.zeros([10]))\ny = tf.nn.softmax(tf.matmul(x,w) + b)", 
            "cell_type": "code", 
            "execution_count": 31, 
            "outputs": [], 
            "metadata": {}
        }, 
        {
            "source": "y_ = tf.placeholder(tf.float32, [None,10])", 
            "cell_type": "code", 
            "execution_count": 32, 
            "outputs": [], 
            "metadata": {}
        }, 
        {
            "source": "cross_entropy = tf.reduce_mean( -tf.reduce_sum(y_ *tf.log(y), reduction_indices =[1]))\ntrain_step = tf.train.GradientDescentOptimizer(0.5).minimize(cross_entropy)", 
            "cell_type": "code", 
            "execution_count": 35, 
            "outputs": [], 
            "metadata": {}
        }, 
        {
            "source": "sess = tf.InteractiveSession()", 
            "cell_type": "code", 
            "execution_count": 37, 
            "outputs": [], 
            "metadata": {}
        }, 
        {
            "source": "tf.global_variables_initializer().run()", 
            "cell_type": "code", 
            "execution_count": 39, 
            "outputs": [], 
            "metadata": {}
        }, 
        {
            "source": "for _ in range(1000):\n    batch_xs, batch_ys = mnist.train.next_batch(100)\n    sess.run(train_step, feed_dict={x: batch_xs, y_: batch_ys})", 
            "cell_type": "code", 
            "execution_count": 41, 
            "outputs": [], 
            "metadata": {}
        }, 
        {
            "source": "correct_prediction = tf.equal(tf.argmax(y,1),tf.argmax(y_,1))", 
            "cell_type": "code", 
            "execution_count": 42, 
            "outputs": [], 
            "metadata": {}
        }, 
        {
            "source": "accuracy = tf.reduce_mean(tf.cast(correct_prediction,tf.float32))", 
            "cell_type": "code", 
            "execution_count": 43, 
            "outputs": [], 
            "metadata": {}
        }, 
        {
            "source": "print(sess.run(accuracy, feed_dict= {x: mnist.test.images, y_:mnist.test.labels}))", 
            "cell_type": "code", 
            "execution_count": 44, 
            "outputs": [
                {
                    "output_type": "stream", 
                    "name": "stdout", 
                    "text": "0.9174\n"
                }
            ], 
            "metadata": {}
        }, 
        {
            "source": "", 
            "cell_type": "code", 
            "execution_count": null, 
            "outputs": [], 
            "metadata": {}
        }
    ], 
    "nbformat": 4, 
    "metadata": {
        "kernelspec": {
            "display_name": "Python 3.5 with Spark 2.1", 
            "name": "python3-spark21", 
            "language": "python"
        }, 
        "language_info": {
            "mimetype": "text/x-python", 
            "nbconvert_exporter": "python", 
            "version": "3.5.4", 
            "name": "python", 
            "pygments_lexer": "ipython3", 
            "file_extension": ".py", 
            "codemirror_mode": {
                "version": 3, 
                "name": "ipython"
            }
        }
    }
}